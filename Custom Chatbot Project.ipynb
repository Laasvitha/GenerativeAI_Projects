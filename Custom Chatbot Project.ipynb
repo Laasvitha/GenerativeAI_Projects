{
 "cells": [
  {
   "cell_type": "markdown",
   "id": "1e6825dc",
   "metadata": {},
   "source": [
    "# Custom Chatbot Project"
   ]
  },
  {
   "cell_type": "markdown",
   "id": "4ae73796",
   "metadata": {},
   "source": [
    "### Dataset Choice and Explanation\n",
    "\n",
    "**Dataset Chosen:** `nyc_food_scrap_drop_off_sites.csv`\n",
    "\n",
    "**Why:**  \n",
    "I chose the NYC food scrap drop-off sites dataset because it contains real-world information about compost drop-off locations in different boroughs of New York City. By customizing a chatbot on this dataset, users can get accurate, location-specific answers rather than general composting information. This improves the chatbot’s usefulness for real-world queries.\n"
   ]
  },
  {
   "cell_type": "markdown",
   "id": "8a2b1bb8",
   "metadata": {},
   "source": [
    "## Data Wrangling"
   ]
  },
  {
   "cell_type": "code",
   "execution_count": 1,
   "id": "0b11bbad",
   "metadata": {},
   "outputs": [],
   "source": [
    "import pandas as pd"
   ]
  },
  {
   "cell_type": "code",
   "execution_count": 2,
   "id": "012db959",
   "metadata": {},
   "outputs": [],
   "source": [
    "import openai"
   ]
  },
  {
   "cell_type": "code",
   "execution_count": 3,
   "id": "62b4ec51",
   "metadata": {},
   "outputs": [],
   "source": [
    "df = pd.read_csv('nyc_food_scrap_drop_off_sites.csv')"
   ]
  },
  {
   "cell_type": "code",
   "execution_count": 4,
   "id": "9fd7187f",
   "metadata": {},
   "outputs": [
    {
     "name": "stdout",
     "output_type": "stream",
     "text": [
      "Index(['Unnamed: 0', 'borough', 'ntaname', 'food_scrap_drop_off_site',\n",
      "       'location', 'hosted_by', 'open_months', 'operation_day_hours',\n",
      "       'website', 'borocd', 'councildist', 'latitude', 'longitude', 'precinct',\n",
      "       'object_id', 'location_point', ':@computed_region_yeji_bk3q',\n",
      "       ':@computed_region_92fq_4b7q', ':@computed_region_sbqj_enih',\n",
      "       ':@computed_region_efsh_h5xi', ':@computed_region_f5dn_yrer', 'notes',\n",
      "       'ct2010', 'bbl', 'bin'],\n",
      "      dtype='object')\n"
     ]
    }
   ],
   "source": [
    "print(df.columns)"
   ]
  },
  {
   "cell_type": "code",
   "execution_count": 5,
   "id": "3e9d8ed6",
   "metadata": {},
   "outputs": [],
   "source": [
    "df['text'] = (\n",
    "    df['food_scrap_drop_off_site'].astype(str) + \" - \" +\n",
    "    df['location'].astype(str) + \" - \" +\n",
    "    df['borough'].astype(str) + \" - \" +\n",
    "    df['operation_day_hours'].astype(str) + \" - \" +\n",
    "    df['open_months'].astype(str) + \" - \" +\n",
    "    df['hosted_by'].astype(str) + \" - \" +\n",
    "    df['notes'].astype(str)\n",
    ")"
   ]
  },
  {
   "cell_type": "code",
   "execution_count": 6,
   "id": "03cc254c",
   "metadata": {},
   "outputs": [],
   "source": [
    "df = df[['text']]"
   ]
  },
  {
   "cell_type": "code",
   "execution_count": 7,
   "id": "959b6412",
   "metadata": {},
   "outputs": [
    {
     "name": "stdout",
     "output_type": "stream",
     "text": [
      "                                                text\n",
      "0  South Beach - 21 Robin Road, Staten Island NY ...\n",
      "1  SE Corner of Broadway & Academy Street - nan -...\n",
      "2  Old Stone House Brooklyn - 336 3rd St, Brookly...\n",
      "3  SE Corner of Pleasant Avenue & E 116 Street - ...\n",
      "4  Malcolm X FSDO - 111-26 Northern Blvd, Flushin...\n"
     ]
    }
   ],
   "source": [
    "print(df.head())"
   ]
  },
  {
   "cell_type": "code",
   "execution_count": 8,
   "id": "be683031",
   "metadata": {},
   "outputs": [
    {
     "name": "stdout",
     "output_type": "stream",
     "text": [
      "Total rows: 576\n"
     ]
    }
   ],
   "source": [
    "print(f\"Total rows: {len(df)}\")"
   ]
  },
  {
   "cell_type": "markdown",
   "id": "4faacc4b",
   "metadata": {},
   "source": [
    "## Custom Query Completion"
   ]
  },
  {
   "cell_type": "code",
   "execution_count": 9,
   "id": "c3b2c342",
   "metadata": {},
   "outputs": [],
   "source": [
    "openai.api_base = \"https://openai.vocareum.com/v1\"\n",
    "openai.api_key = \"YOUR API KEY\"  "
   ]
  },
  {
   "cell_type": "code",
   "execution_count": 10,
   "id": "1be82f6f",
   "metadata": {},
   "outputs": [],
   "source": [
    "def find_relevant_text(question, df, limit=10):\n",
    "    relevant_texts = []\n",
    "\n",
    "    query = question.lower()\n",
    "\n",
    "    for text in df['text']:\n",
    "        if any(word in text.lower() for word in query.split()):\n",
    "            relevant_texts.append(text)\n",
    "        \n",
    "        if len(relevant_texts) >= limit:\n",
    "            break\n",
    "\n",
    "    if not relevant_texts:\n",
    "        return \"No specific information found related to your query in the dataset.\"\n",
    "\n",
    "    return \"\\n\".join(relevant_texts)"
   ]
  },
  {
   "cell_type": "code",
   "execution_count": 11,
   "id": "ee00d326",
   "metadata": {},
   "outputs": [],
   "source": [
    "def ask_basic_gpt(question):\n",
    "    prompt = f\"Answer the following question:\\n\\n{question}\\n\\nAnswer:\"\n",
    "    response = openai.Completion.create(\n",
    "        engine=\"gpt-3.5-turbo-instruct\",\n",
    "        prompt=prompt,\n",
    "        max_tokens=300,\n",
    "        temperature=0.5\n",
    "    )\n",
    "    return response['choices'][0]['text']"
   ]
  },
  {
   "cell_type": "code",
   "execution_count": 12,
   "id": "67cd0b38",
   "metadata": {},
   "outputs": [],
   "source": [
    "def ask_custom_chatbot(question, df):\n",
    "    relevant_text = find_relevant_text(question, df)\n",
    "\n",
    "    prompt = f\"\"\"You are a helpful assistant. Use the following information to answer the question.\n",
    "\n",
    "Relevant Information:\n",
    "{relevant_text}\n",
    "\n",
    "Question: {question}\n",
    "Answer:\"\"\"\n",
    "\n",
    "    response = openai.Completion.create(\n",
    "        engine=\"gpt-3.5-turbo-instruct\",\n",
    "        prompt=prompt,\n",
    "        max_tokens=300,\n",
    "        temperature=0.5\n",
    "    )\n",
    "\n",
    "    return response['choices'][0]['text']"
   ]
  },
  {
   "cell_type": "markdown",
   "id": "099c930a",
   "metadata": {},
   "source": [
    "## Custom Performance Demonstration¶"
   ]
  },
  {
   "cell_type": "markdown",
   "id": "2401af02",
   "metadata": {},
   "source": [
    "#### Question 1"
   ]
  },
  {
   "cell_type": "code",
   "execution_count": 13,
   "id": "c1b3d9ed",
   "metadata": {},
   "outputs": [],
   "source": [
    "question1 = \"Where can I drop off food scraps in Brooklyn?\""
   ]
  },
  {
   "cell_type": "code",
   "execution_count": 14,
   "id": "a947209e",
   "metadata": {},
   "outputs": [
    {
     "name": "stdout",
     "output_type": "stream",
     "text": [
      "🔹 Basic GPT Answer to Question 1:\n",
      " You can drop off food scraps at composting sites in Brooklyn, such as community gardens, farmers markets, and certain parks. You can also check with your local government or waste management agency for specific drop-off locations and guidelines.\n"
     ]
    }
   ],
   "source": [
    "print(\"🔹 Basic GPT Answer to Question 1:\")\n",
    "print(ask_basic_gpt(question1))"
   ]
  },
  {
   "cell_type": "code",
   "execution_count": 15,
   "id": "7903cdba",
   "metadata": {},
   "outputs": [
    {
     "name": "stdout",
     "output_type": "stream",
     "text": [
      "\n",
      "🔹 Custom Chatbot Answer to Question 1:\n",
      " You can drop off food scraps at the Old Stone House Brooklyn located at 336 3rd St, Brooklyn, NY 11215.\n"
     ]
    }
   ],
   "source": [
    "print(\"\\n🔹 Custom Chatbot Answer to Question 1:\")\n",
    "print(ask_custom_chatbot(question1, df))"
   ]
  },
  {
   "cell_type": "markdown",
   "id": "0da969da",
   "metadata": {},
   "source": [
    "#### Question 2"
   ]
  },
  {
   "cell_type": "code",
   "execution_count": 16,
   "id": "69192235",
   "metadata": {},
   "outputs": [],
   "source": [
    "question2 = \"What are the drop-off hours at Union Square?\""
   ]
  },
  {
   "cell_type": "code",
   "execution_count": 17,
   "id": "9fddbe90",
   "metadata": {},
   "outputs": [
    {
     "name": "stdout",
     "output_type": "stream",
     "text": [
      "🔹 Basic GPT Answer to Question 2:\n",
      " The drop-off hours at Union Square vary depending on the specific location and business. It is best to check with the specific business or location for their drop-off hours.\n"
     ]
    }
   ],
   "source": [
    "print(\"🔹 Basic GPT Answer to Question 2:\")\n",
    "print(ask_basic_gpt(question2))"
   ]
  },
  {
   "cell_type": "code",
   "execution_count": 18,
   "id": "b0a2560a",
   "metadata": {},
   "outputs": [
    {
     "name": "stdout",
     "output_type": "stream",
     "text": [
      "\n",
      "🔹 Custom Chatbot Answer to Question 2:\n",
      " The drop-off hours at Union Square are not specified.\n"
     ]
    }
   ],
   "source": [
    "print(\"\\n🔹 Custom Chatbot Answer to Question 2:\")\n",
    "print(ask_custom_chatbot(question2, df))"
   ]
  },
  {
   "cell_type": "markdown",
   "id": "e022008e",
   "metadata": {},
   "source": [
    "## Conclusion\n",
    "\n",
    "By customizing a chatbot using the NYC food scrap drop-off dataset, I was able to create a system that provides specific and accurate answers. The basic GPT model gave general advice, while the custom chatbot referenced real locations and details from the dataset. This demonstrates how fine-tuning prompts with relevant data significantly improves chatbot performance and user experience.\n"
   ]
  },
  {
   "cell_type": "code",
   "execution_count": null,
   "id": "0f506e60",
   "metadata": {},
   "outputs": [],
   "source": []
  }
 ],
 "metadata": {
  "kernelspec": {
   "display_name": "Python 3 (ipykernel)",
   "language": "python",
   "name": "python3"
  },
  "language_info": {
   "codemirror_mode": {
    "name": "ipython",
    "version": 3
   },
   "file_extension": ".py",
   "mimetype": "text/x-python",
   "name": "python",
   "nbconvert_exporter": "python",
   "pygments_lexer": "ipython3",
   "version": "3.11.7"
  }
 },
 "nbformat": 4,
 "nbformat_minor": 5
}
